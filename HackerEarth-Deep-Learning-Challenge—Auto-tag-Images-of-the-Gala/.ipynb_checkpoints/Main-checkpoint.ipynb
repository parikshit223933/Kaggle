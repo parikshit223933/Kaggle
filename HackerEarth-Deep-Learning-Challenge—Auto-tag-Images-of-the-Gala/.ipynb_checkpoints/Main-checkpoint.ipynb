{
 "cells": [
  {
   "cell_type": "code",
   "execution_count": 2,
   "metadata": {},
   "outputs": [],
   "source": [
    "import pandas as pd\n",
    "import keras\n",
    "from keras.models import Sequential\n",
    "from keras.layers import Conv2D, Dense, Activation, MaxPooling2D, Dropout, Flatten\n",
    "import tensorflow as tf\n",
    "import cv2\n",
    "import numpy as np\n",
    "import os\n",
    "import cv2"
   ]
  },
  {
   "cell_type": "code",
   "execution_count": 3,
   "metadata": {},
   "outputs": [],
   "source": [
    "training_data=pd.read_csv('dataset/train.csv')\n",
    "testing_data=pd.read_csv('dataset/test.csv')"
   ]
  },
  {
   "cell_type": "code",
   "execution_count": 4,
   "metadata": {},
   "outputs": [
    {
     "data": {
      "text/plain": [
       "(               Image   Class\n",
       " 0      image7042.jpg    Food\n",
       " 1      image3327.jpg    misc\n",
       " 2     image10335.jpg  Attire\n",
       " 3      image8019.jpg    Food\n",
       " 4      image2128.jpg  Attire\n",
       " ...              ...     ...\n",
       " 5978   image2494.jpg    Food\n",
       " 5979   image8015.jpg  Attire\n",
       " 5980   image4975.jpg    Food\n",
       " 5981   image1222.jpg    Food\n",
       " 5982   image9635.jpg  Attire\n",
       " \n",
       " [5983 rows x 2 columns],                Image\n",
       " 0      image6245.jpg\n",
       " 1     image10409.jpg\n",
       " 2      image8692.jpg\n",
       " 3     image10517.jpg\n",
       " 4      image2580.jpg\n",
       " ...              ...\n",
       " 3214   image4968.jpg\n",
       " 3215   image6673.jpg\n",
       " 3216   image3442.jpg\n",
       " 3217   image8178.jpg\n",
       " 3218   image5367.jpg\n",
       " \n",
       " [3219 rows x 1 columns])"
      ]
     },
     "execution_count": 4,
     "metadata": {},
     "output_type": "execute_result"
    }
   ],
   "source": [
    "training_data, testing_data"
   ]
  },
  {
   "cell_type": "code",
   "execution_count": 5,
   "metadata": {},
   "outputs": [],
   "source": [
    "test_paths=''\n",
    "train_paths=''\n",
    "for i in os.walk('dataset/Test Images'):\n",
    "    test_paths=i\n",
    "for i in os.walk('dataset/Train Images'):\n",
    "    train_paths=i"
   ]
  },
  {
   "cell_type": "code",
   "execution_count": 6,
   "metadata": {},
   "outputs": [],
   "source": [
    "all_training_image_paths=[]\n",
    "all_testing_image_paths=[]\n",
    "for image_name in test_paths[2]:\n",
    "    all_testing_image_paths.append('dataset/Test Images/'+image_name)\n",
    "for image_name in train_paths[2]:\n",
    "    all_training_image_paths.append('dataset/Train Images/'+image_name)"
   ]
  }
 ],
 "metadata": {
  "kernelspec": {
   "display_name": "Python 3",
   "language": "python",
   "name": "python3"
  },
  "language_info": {
   "codemirror_mode": {
    "name": "ipython",
    "version": 3
   },
   "file_extension": ".py",
   "mimetype": "text/x-python",
   "name": "python",
   "nbconvert_exporter": "python",
   "pygments_lexer": "ipython3",
   "version": "3.7.4"
  }
 },
 "nbformat": 4,
 "nbformat_minor": 4
}
